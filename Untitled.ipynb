{
 "cells": [
  {
   "cell_type": "code",
   "execution_count": 14,
   "id": "4c636770",
   "metadata": {},
   "outputs": [],
   "source": [
    "#Importing the libraries\n",
    "import pandas as pd\n",
    "import numpy as np\n",
    "import matplotlib.pyplot as plt\n",
    "from matplotlib.pyplot import figure\n",
    "from river import stream, optim, evaluate\n",
    "from river.linear_model import LogisticRegression\n",
    "from river.ensemble import AdaptiveRandomForestClassifier\n",
    "from river.naive_bayes import GaussianNB\n",
    "from river.neighbors import KNNClassifier\n",
    "from river.multiclass import OneVsRestClassifier\n",
    "from river.preprocessing import StandardScaler\n",
    "from river.compose import Pipeline\n",
    "from river.metrics import Accuracy\n",
    "from sklearn.utils import shuffle"
   ]
  },
  {
   "cell_type": "code",
   "execution_count": 15,
   "id": "31417f34",
   "metadata": {},
   "outputs": [],
   "source": [
    "#Getting the dataframe\n",
    "df = pd.read_csv('winequality-white.csv')\n",
    "#Shuffling the rows\n",
    "df = shuffle(df, random_state=11).reset_index(drop=True)\n",
    "#Saving the dataframe\n",
    "df.to_csv(\"winequality-white-shuffled.csv\", index=False)"
   ]
  },
  {
   "cell_type": "code",
   "execution_count": 16,
   "id": "038b4e3e",
   "metadata": {},
   "outputs": [
    {
     "name": "stdout",
     "output_type": "stream",
     "text": [
      "[INFO] building column names...\n"
     ]
    }
   ],
   "source": [
    "# Construct our data dictionary which maps the data types of the columns in the CSV file to built-in data types\n",
    "print(\"[INFO] building column names...\")\n",
    "types = {'fixed acidity':float, 'volatile acidity':float, 'citric acid':float, 'residual sugar':float, 'chlorides':float,\n",
    "         'free sulfur dioxide':float, 'total sulfur dioxide':float, 'density':float, 'pH':float, 'sulphates':float,\n",
    "         'alcohol':float}\n",
    "types[\"quality\"] = int"
   ]
  },
  {
   "cell_type": "code",
   "execution_count": 43,
   "id": "39206a1d",
   "metadata": {},
   "outputs": [
    {
     "name": "stdout",
     "output_type": "stream",
     "text": [
      "[INFO] starting training...   [Parameters: learning rate = 0.001, loss = Log]\n",
      "[INFO] final - Accuracy: 52.87%\n"
     ]
    }
   ],
   "source": [
    "learning_rates = [0.001]\n",
    "losses = [(optim.losses.Log(), 'Log')]\n",
    "\n",
    "log_accuracies = []\n",
    "hinge_accuracies = []\n",
    "\n",
    "for rate in learning_rates:\n",
    "    for loss in losses:\n",
    "        \n",
    "        #Getting the dataset\n",
    "        #It's necessary to reload the dataset every cycle because it was previously emptied by simulating a stream line by line\n",
    "        dataset = stream.iter_csv(\"winequality-white-shuffled.csv\", target=\"quality\", converters=types)\n",
    "        \n",
    "        #Constructing our pipeline (standardize features + model)\n",
    "        model = (\n",
    "            StandardScaler() | \n",
    "            #OneVsRestClassifier(classifier=LogisticRegression(intercept_lr = rate, loss=loss[0]))\n",
    "            KNNClassifier(n_neighbors=6)\n",
    "        )\n",
    "\n",
    "        #Initializing our metric\n",
    "        print(\"[INFO] starting training...   [Parameters: learning rate = {}, loss = {}]\".format(rate, loss[1]))\n",
    "        metric = Accuracy()\n",
    "        \n",
    "        #Looping over the dataset one row at a time\n",
    "        evaluate.progressive_val_score(dataset, model, metric)\n",
    "    \n",
    "        #Saving the results as raw numbers\n",
    "        if loss[1] == 'Log':\n",
    "            log_accuracies.append(float(str(metric).split(':')[1].strip()[:-1]))\n",
    "        else:\n",
    "            hinge_accuracies.append(float(str(metric).split(':')[1].strip()[:-1]))\n",
    "            \n",
    "        #Showing the accuracy of the model    \n",
    "        print(\"[INFO] final - {}\".format(metric))"
   ]
  },
  {
   "cell_type": "code",
   "execution_count": 45,
   "id": "0bdef29d",
   "metadata": {},
   "outputs": [
    {
     "data": {
      "text/plain": [
       "6"
      ]
     },
     "execution_count": 45,
     "metadata": {},
     "output_type": "execute_result"
    }
   ],
   "source": [
    "model['KNNClassifier'].n_neighbors"
   ]
  }
 ],
 "metadata": {
  "kernelspec": {
   "display_name": "Python 3 (ipykernel)",
   "language": "python",
   "name": "python3"
  },
  "language_info": {
   "codemirror_mode": {
    "name": "ipython",
    "version": 3
   },
   "file_extension": ".py",
   "mimetype": "text/x-python",
   "name": "python",
   "nbconvert_exporter": "python",
   "pygments_lexer": "ipython3",
   "version": "3.7.11"
  }
 },
 "nbformat": 4,
 "nbformat_minor": 5
}
