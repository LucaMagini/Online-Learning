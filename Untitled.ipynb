{
 "cells": [
  {
   "cell_type": "code",
   "execution_count": 16,
   "id": "4c636770",
   "metadata": {},
   "outputs": [],
   "source": [
    "#Importing the libraries\n",
    "import pandas as pd\n",
    "import numpy as np\n",
    "import matplotlib.pyplot as plt\n",
    "from matplotlib.pyplot import figure\n",
    "from river import stream, optim, evaluate\n",
    "from river.linear_model import LogisticRegression\n",
    "from river.ensemble import AdaptiveRandomForestClassifier\n",
    "from river.naive_bayes import GaussianNB\n",
    "from river.neighbors import KNNClassifier\n",
    "from river.multiclass import OneVsRestClassifier\n",
    "from river.preprocessing import StandardScaler\n",
    "from river.compose import Pipeline\n",
    "from river.metrics import Accuracy\n",
    "from sklearn.utils import shuffle"
   ]
  },
  {
   "cell_type": "code",
   "execution_count": 17,
   "id": "31417f34",
   "metadata": {},
   "outputs": [],
   "source": [
    "#Getting the dataframe\n",
    "df = pd.read_csv('winequality-white.csv')\n",
    "#Shuffling the rows\n",
    "df = shuffle(df, random_state=11).reset_index(drop=True)\n",
    "#Saving the dataframe\n",
    "df.to_csv(\"winequality-white-shuffled.csv\", index=False)"
   ]
  },
  {
   "cell_type": "code",
   "execution_count": 18,
   "id": "038b4e3e",
   "metadata": {},
   "outputs": [
    {
     "name": "stdout",
     "output_type": "stream",
     "text": [
      "[INFO] building column names...\n"
     ]
    }
   ],
   "source": [
    "# Construct our data dictionary which maps the data types of the columns in the CSV file to built-in data types\n",
    "print(\"[INFO] building column names...\")\n",
    "types = {'fixed acidity':float, 'volatile acidity':float, 'citric acid':float, 'residual sugar':float, 'chlorides':float,\n",
    "         'free sulfur dioxide':float, 'total sulfur dioxide':float, 'density':float, 'pH':float, 'sulphates':float,\n",
    "         'alcohol':float}\n",
    "types[\"quality\"] = int"
   ]
  },
  {
   "cell_type": "code",
   "execution_count": 25,
   "id": "39206a1d",
   "metadata": {},
   "outputs": [
    {
     "name": "stdout",
     "output_type": "stream",
     "text": [
      "[INFO] starting training...\n",
      "[INFO] update 0 - Accuracy: 0.00%\n",
      "[INFO] update 500 - Accuracy: 42.91%\n",
      "[INFO] update 1000 - Accuracy: 42.86%\n",
      "[INFO] update 1500 - Accuracy: 43.44%\n",
      "[INFO] update 2000 - Accuracy: 45.33%\n",
      "[INFO] update 2500 - Accuracy: 46.78%\n",
      "[INFO] update 3000 - Accuracy: 47.05%\n",
      "[INFO] update 3500 - Accuracy: 47.50%\n",
      "[INFO] update 4000 - Accuracy: 48.09%\n",
      "[INFO] final - Accuracy: 48.09%\n"
     ]
    }
   ],
   "source": [
    "#Getting the dataset\n",
    "dataset = stream.iter_csv(\"4000.csv\", target=\"quality\", converters=types)\n",
    "\n",
    "#Constructing our pipeline (standardize features + model)\n",
    "model = Pipeline(\n",
    "    StandardScaler(),\n",
    "    OneVsRestClassifier(classifier=LogisticRegression(loss = optim.losses.Log(), intercept_lr = 0.005)))\n",
    "\n",
    "#Initializing our metric\n",
    "print(\"[INFO] starting training...\")\n",
    "metric = Accuracy()\n",
    "\n",
    "lr_values = []\n",
    "\n",
    "#Looping over the dataset one row at a time\n",
    "for (i, (X, y)) in enumerate(dataset):\n",
    "    #Make predictions on the current set of features, train the\n",
    "    #model on the features, and then update our metric\n",
    "    preds = model.predict_one(X)\n",
    "    model = model.learn_one(X, y)\n",
    "    metric = metric.update(y, preds)\n",
    "    lr_values.append((i, float(str(metric).split(':')[1].strip()[:-1])))\n",
    "    if i%500 == 0:\n",
    "        print(\"[INFO] update {} - {}\".format(i, metric))\n",
    "    \n",
    "#Showing the accuracy of the model\n",
    "print(\"[INFO] final - {}\".format(metric))"
   ]
  },
  {
   "cell_type": "code",
   "execution_count": 26,
   "id": "df69b7c8",
   "metadata": {},
   "outputs": [
    {
     "name": "stdout",
     "output_type": "stream",
     "text": [
      "[INFO] starting training...\n",
      "[INFO] update 0 - Accuracy: 48.08%\n",
      "[INFO] update 298 - Accuracy: 48.12%\n",
      "[INFO] update 596 - Accuracy: 48.04%\n",
      "[INFO] update 894 - Accuracy: 48.14%\n",
      "[INFO] final - Accuracy: 48.14%\n"
     ]
    }
   ],
   "source": [
    "#Getting the dataset\n",
    "dataset = stream.iter_csv(\"900.csv\", target=\"quality\", converters=types)\n",
    "\n",
    "print(\"[INFO] starting training...\")\n",
    "metric1 = metric\n",
    "\n",
    "#Looping over the dataset one row at a time\n",
    "for (i, (X, y)) in enumerate(dataset):\n",
    "    #Make predictions on the current set of features, train the\n",
    "    #model on the features, and then update our metric\n",
    "    preds = model.predict_one(X)\n",
    "    model = model.learn_one(X, y)\n",
    "    metric1 = metric1.update(y, preds)\n",
    "    lr_values.append((i, float(str(metric1).split(':')[1].strip()[:-1])))\n",
    "    if i%298 == 0:\n",
    "        print(\"[INFO] update {} - {}\".format(i, metric1))\n",
    "    \n",
    "#Showing the accuracy of the model\n",
    "print(\"[INFO] final - {}\".format(metric1))"
   ]
  }
 ],
 "metadata": {
  "kernelspec": {
   "display_name": "Python 3 (ipykernel)",
   "language": "python",
   "name": "python3"
  },
  "language_info": {
   "codemirror_mode": {
    "name": "ipython",
    "version": 3
   },
   "file_extension": ".py",
   "mimetype": "text/x-python",
   "name": "python",
   "nbconvert_exporter": "python",
   "pygments_lexer": "ipython3",
   "version": "3.7.11"
  }
 },
 "nbformat": 4,
 "nbformat_minor": 5
}
