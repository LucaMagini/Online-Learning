{
 "cells": [
  {
   "cell_type": "markdown",
   "id": "7e597240",
   "metadata": {},
   "source": [
    "# ONLINE LEARNING"
   ]
  },
  {
   "cell_type": "markdown",
   "id": "469b896a",
   "metadata": {},
   "source": [
    "### What is Online Learning ?"
   ]
  },
  {
   "cell_type": "markdown",
   "id": "63618c02",
   "metadata": {},
   "source": [
    "Online learning is a machine learning method in which data becomes available in a sequential order and is used to update the best predictor for future data at each step, as opposed to batch learning which must be trained using all the available data and it's incapable of learning incrementally. \n",
    "\n",
    "Machine learning models are usually static things. They are essentially collections of parameters, after you've trained a model its parameters don't change (horizontal scalability). But what about new data? If we just train a model once and never touch it again, we’re missing out the information more data could provide us. This is especially important in environments where behaviours change quickly.\n",
    "\n",
    "In online learning, you train the system incrementally by feeding it data instances sequentially, either individually or in small groups called mini-batches. Each learning step is fast and cheap, so the system can learn about new data on the fly, as it arrives.\n",
    "\n",
    "One important parameter of online learning systems is how fast they should adapt to changing data (**Learning Rate**). If you set a high learning rate, then your system will rapidly adapt to new data, but it also tends to quickly forget the old data. On the other hand, if you set a low learning rate, the system will have more inertia, it will learn more slowly but it will also be less sensitive to noise in the new data or outliers."
   ]
  },
  {
   "cell_type": "markdown",
   "id": "d17a868d",
   "metadata": {},
   "source": [
    "### Why Online Learning ?"
   ]
  },
  {
   "cell_type": "markdown",
   "id": "e2dbc10e",
   "metadata": {},
   "source": [
    "Online learning is a great method essentially in three main cases:\n",
    "* **Continuos Flow**: Systems that receive data as a continuous flow, for example stock prices, and need to adapt to change rapidly or autonomously.\n",
    "\n",
    "\n",
    "* **Limited Computing Resources**: Once an online learning system has learned about new data instances, it doesn't need them anymore, so you can discard them and this can save a huge amount of space.\n",
    "\n",
    "\n",
    "* **Huge Datasets**: Can also be used to train systems on huge datasets that cannot fit in one machine's main memory. The algorithm loads part of the data, runs a training step on that data and repeats the process until it has run on all of the data."
   ]
  },
  {
   "cell_type": "markdown",
   "id": "a63a53e7",
   "metadata": {},
   "source": [
    "### Project and Dataset Description"
   ]
  },
  {
   "cell_type": "markdown",
   "id": "6c89bb9e",
   "metadata": {},
   "source": [
    "The purpose of this project is to show the implementation of the main machine learning models in the online learning mode and compare the results with the classical batch learning methods. \n",
    "\n",
    "We'll use the wine quality dataset from [UCI ML Repository](https://archive.ics.uci.edu/ml/datasets/wine+quality) which is public available for research. The dataset is related to white variant of the Portuguese \"Vinho Verde\" wine. Due to privacy and logistic issues, only physicochemical (inputs) and sensory (the output) variables are available (e.g. there is no data about grape types, wine brand, wine selling price). The inputs include objective tests (e.g. PH values) and the output is based on sensory data (median of at least 3 evaluations made by wine experts). Each expert graded the wine quality between 0 (very bad) and 10 (very excellent).\n",
    "\n",
    "Some technical information about the dataset: \n",
    "* **Number of Instances**: 4898\n",
    "* **Number of Attributes**: 11 + output attribute\n",
    "* **Missing Attribute Values**: None\n",
    "* **Input Variables** (based on physicochemical tests):\n",
    "    1. fixed acidity \n",
    "    2. volatile acidity\n",
    "    3. citric acid\n",
    "    4. residual sugar\n",
    "    5. chlorides\n",
    "    6. free sulfur dioxide\n",
    "    7. total sulfur dioxide\n",
    "    8. density\n",
    "    9. pH\n",
    "    10. sulphates\n",
    "    11. alcohol\n",
    "    \n",
    "    \n",
    "* **Output Variable** (based on sensory data): \n",
    "    1. quality (score between 0 and 10) \n",
    "    \n",
    "Applying online learning methods we'll simulate a continuos data flow, a pure streaming context where the observations arrive one by one (mini-batch learning is supported as well), and then we'll apply the same ML models in a batch learning mode without any kind of data manipulation or data cleaning to compare the online and batch learning methods on the exact same data."
   ]
  },
  {
   "cell_type": "markdown",
   "id": "2a7b3b80",
   "metadata": {},
   "source": [
    "### Libraries: River and Scikit-Learn"
   ]
  },
  {
   "cell_type": "markdown",
   "id": "9723980b",
   "metadata": {},
   "source": [
    "**River** is a Python library for online machine learning. It is the result of a merger between creme and scikit-multiflow for doing machine learning on streaming data.\n",
    "\n",
    "Here are some benefits of using River (and online machine learning in general):\n",
    "* **Incremental**: models can update themselves in real-time.\n",
    "* **Adaptive**: models can adapt to concept drift.\n",
    "* **Production-ready**: working with data streams makes it simple to replicate production scenarios during model development.\n",
    "* **Efficient**: models don't have to be retrained and require little compute power, which lowers their carbon footprint\n",
    "* **Fast**: when the goal is to learn and predict with a single instance at a time, then River is an order of magnitude faster than PyTorch, Tensorflow, and Scikit-learn.\n",
    "\n",
    "**Scikit-learn** does not treat incremental learning as a 'first-class citizen', only a few online learning implementations are included in the library, there are only 5 algorithm available for classification tasks in the online learning mode. In river we can implement linear models with a wide array of optimizers, nearest neighbors, decision trees, naive bayes and much more in a super fast way. Anyway in Scikit-learn there are some algorithms that aren't yet present in the river library (e.g. SGDClassifier).\n",
    "\n",
    "In this project we'll use the River and Scikit-learn libraries for applying these fundamental models in a multiclass classification task:\n",
    "* **Logistic Regression** (River)\n",
    "* **Adaptive Random Forest Classifier** (River)\n",
    "* **Gaussian Naive Bayes** (River)\n",
    "* **Softmax Regression** (River)\n",
    "* **K-Nearest Neighbors** (River)\n",
    "* **SGDClassifier(SVM)** (Scikit-learn)"
   ]
  },
  {
   "cell_type": "markdown",
   "id": "041ac0ec",
   "metadata": {},
   "source": [
    "### Preparing the Data for the Online Learning "
   ]
  },
  {
   "cell_type": "code",
   "execution_count": 184,
   "id": "4fa184a2",
   "metadata": {},
   "outputs": [],
   "source": [
    "#Importing the libraries\n",
    "import pandas as pd\n",
    "import numpy as np\n",
    "import matplotlib.pyplot as plt\n",
    "from matplotlib.pyplot import figure\n",
    "from river import stream, optim, evaluate\n",
    "from river.linear_model import LogisticRegression, SoftmaxRegression\n",
    "from river.ensemble import AdaptiveRandomForestClassifier\n",
    "from river.naive_bayes import GaussianNB\n",
    "from river.neighbors import KNNClassifier\n",
    "from river.multiclass import OneVsRestClassifier\n",
    "from river.preprocessing import StandardScaler\n",
    "from river.compose import Pipeline\n",
    "from river.metrics import Accuracy\n",
    "from sklearn.linear_model import SGDClassifier\n",
    "from sklearn.metrics import accuracy_score\n",
    "from sklearn.utils import shuffle"
   ]
  },
  {
   "cell_type": "code",
   "execution_count": 148,
   "id": "46e81a64",
   "metadata": {},
   "outputs": [],
   "source": [
    "#Getting the dataframe\n",
    "df = pd.read_csv('winequality-white.csv')\n",
    "#Shuffling the rows\n",
    "df = shuffle(df, random_state=11).reset_index(drop=True)\n",
    "#Saving the dataframe\n",
    "df.to_csv(\"winequality-white-shuffled.csv\", index=False)"
   ]
  },
  {
   "cell_type": "markdown",
   "id": "f7ab8580",
   "metadata": {},
   "source": [
    "In river, the features of a sample are stored inside a dictionary, which in Python is called a dict and is a native data structure. In other words, we don't use any sophisticated data structure, such as a *numpy.ndarray* or a *pandas.DataFrame*.\n",
    "\n",
    "The main advantage of using plain dicts is that it removes the overhead that comes with using the aforementioned data structures. This is important in a streaming context because we want to be able to process many individual samples in rapid succession.\n",
    "\n",
    "Another advantage is that dicts play nicely with Python's standard library. Indeed, Python contains many tools that allow manipulating dicts. For instance, the *csv.DictReader* can be used to read a CSV file and convert each row to a dict. In fact, the *stream.iter_csv* method from river is just a wrapper on top of *csv.DictReader* that adds a few features."
   ]
  },
  {
   "cell_type": "code",
   "execution_count": 149,
   "id": "c463fa19",
   "metadata": {},
   "outputs": [
    {
     "name": "stdout",
     "output_type": "stream",
     "text": [
      "[INFO] building column names...\n"
     ]
    }
   ],
   "source": [
    "# Construct our data dictionary which maps the data types of the columns in the CSV file to built-in data types\n",
    "print(\"[INFO] building column names...\")\n",
    "types = {'fixed acidity':float, 'volatile acidity':float, 'citric acid':float, 'residual sugar':float, 'chlorides':float,\n",
    "         'free sulfur dioxide':float, 'total sulfur dioxide':float, 'density':float, 'pH':float, 'sulphates':float,\n",
    "         'alcohol':float}\n",
    "types[\"quality\"] = int"
   ]
  },
  {
   "cell_type": "markdown",
   "id": "db2c1a7f",
   "metadata": {},
   "source": [
    "Not all classifiers support multi-class classification, each classifier in river inherits from the *base.Classifier* class. Each classifier therefore has a *_multiclass* property which indicates whether or not it can process a non-boolean target value. The *multiclass* module contains wrapper models that enable you to perform multi-class classification with binary classifiers.\n",
    "\n",
    "Let's check which models support a multiclass classification task. If a model doesn't support it, we can use a River class of the *multiclass* module (*OneVsRestClassifier*) as a wrapper."
   ]
  },
  {
   "cell_type": "code",
   "execution_count": 194,
   "id": "4166faa8",
   "metadata": {},
   "outputs": [
    {
     "name": "stdout",
     "output_type": "stream",
     "text": [
      "LogisticRegression support multiclass: False\n",
      "AdaptiveRandomForestClassifier support multiclass: True\n",
      "GaussianNB support multiclass: True\n",
      "SoftmaxRegression support multiclass: True\n",
      "KNNClassifier support multiclass: True\n",
      "SGDClassifier support multiclass: True\n"
     ]
    }
   ],
   "source": [
    "#Checking multi-class support for all the models\n",
    "models = [LogisticRegression(), AdaptiveRandomForestClassifier(), GaussianNB(), SoftmaxRegression(), KNNClassifier()]\n",
    "\n",
    "for model in models:\n",
    "    #This differentiation must be made because for some models '_multiclass' is a property for others is a static method     \n",
    "    try:\n",
    "        print('{} support multiclass: {}'.format(model, model._multiclass()))\n",
    "    except:\n",
    "        print('{} support multiclass: {}'.format(model, model._multiclass))\n",
    "\n",
    "#In Scikit-learn the SGDClassifier support multiclass as OneVsRest \n",
    "print('SGDClassifier support multiclass: True')"
   ]
  },
  {
   "cell_type": "markdown",
   "id": "c1fe1d1a",
   "metadata": {},
   "source": [
    "LogisticRegression is the only model that doesn't support multiclass classification but we can use the *OneVsRestClassifier* class as a wrapper."
   ]
  },
  {
   "cell_type": "markdown",
   "id": "87b57aaf",
   "metadata": {},
   "source": [
    "## Logistic Regression         "
   ]
  },
  {
   "cell_type": "code",
   "execution_count": 157,
   "id": "7a33af2c",
   "metadata": {},
   "outputs": [
    {
     "name": "stdout",
     "output_type": "stream",
     "text": [
      "[INFO] starting training...   [Parameters: learning rate = 0.001, loss = Log]\n",
      "[INFO] final - Accuracy: 49.64%\n",
      "[INFO] starting training...   [Parameters: learning rate = 0.001, loss = Hinge]\n",
      "[INFO] final - Accuracy: 49.38%\n",
      "[INFO] starting training...   [Parameters: learning rate = 0.003, loss = Log]\n",
      "[INFO] final - Accuracy: 50.44%\n",
      "[INFO] starting training...   [Parameters: learning rate = 0.003, loss = Hinge]\n",
      "[INFO] final - Accuracy: 49.70%\n",
      "[INFO] starting training...   [Parameters: learning rate = 0.005, loss = Log]\n",
      "[INFO] final - Accuracy: 51.03%\n",
      "[INFO] starting training...   [Parameters: learning rate = 0.005, loss = Hinge]\n",
      "[INFO] final - Accuracy: 49.38%\n",
      "[INFO] starting training...   [Parameters: learning rate = 0.01, loss = Log]\n",
      "[INFO] final - Accuracy: 50.60%\n",
      "[INFO] starting training...   [Parameters: learning rate = 0.01, loss = Hinge]\n",
      "[INFO] final - Accuracy: 49.44%\n"
     ]
    }
   ],
   "source": [
    "learning_rates = [0.001, 0.003, 0.005, 0.01]\n",
    "losses = [(optim.losses.Log(), 'Log'), (optim.losses.Hinge(), 'Hinge')]\n",
    "\n",
    "log_accuracies = []\n",
    "hinge_accuracies = []\n",
    "\n",
    "for rate in learning_rates:\n",
    "    for loss in losses:\n",
    "        \n",
    "        #Getting the dataset\n",
    "        #It's necessary to reload the dataset every cycle because it was previously emptied by simulating a stream line by line\n",
    "        dataset = stream.iter_csv(\"winequality-white-shuffled.csv\", target=\"quality\", converters=types)\n",
    "        \n",
    "        #Constructing our pipeline (standardize features + model)\n",
    "        model = (\n",
    "            StandardScaler() | \n",
    "            OneVsRestClassifier(classifier=LogisticRegression(intercept_lr = rate, loss=loss[0]))\n",
    "        )\n",
    "\n",
    "        #Initializing our metric\n",
    "        print(\"[INFO] starting training...   [Parameters: learning rate = {}, loss = {}]\".format(rate, loss[1]))\n",
    "        metric = Accuracy()\n",
    "        \n",
    "        #Looping over the dataset one row at a time\n",
    "        evaluate.progressive_val_score(dataset, model, metric)\n",
    "    \n",
    "        #Saving the results as raw numbers\n",
    "        if loss[1] == 'Log':\n",
    "            log_accuracies.append(float(str(metric).split(':')[1].strip()[:-1]))\n",
    "        else:\n",
    "            hinge_accuracies.append(float(str(metric).split(':')[1].strip()[:-1]))\n",
    "            \n",
    "        #Showing the accuracy of the model    \n",
    "        print(\"[INFO] final - {}\".format(metric))"
   ]
  },
  {
   "cell_type": "code",
   "execution_count": 158,
   "id": "f3928511",
   "metadata": {},
   "outputs": [
    {
     "data": {
      "image/png": "[encoded data removed]",
      "text/plain": [
       "<Figure size 864x288 with 1 Axes>"
      ]
     },
     "metadata": {
      "needs_background": "light"
     },
     "output_type": "display_data"
    }
   ],
   "source": [
    "#Plotting the results\n",
    "plt.figure(figsize=(12,4))\n",
    "x = [0.001, 0.003, 0.005, 0.01]\n",
    "log = plt.plot(x, log_accuracies, label = \"Log\")\n",
    "hinge = plt.plot(x, hinge_accuracies, label = \"Hinge\")\n",
    "plt.xticks(x)\n",
    "plt.yticks(np.arange(48.5, 53, 0.5))\n",
    "plt.title(\"Performance Comparison\")\n",
    "plt.legend(handles=[log[0], hinge[0]], loc= \"lower right\")\n",
    "plt.show()  "
   ]
  },
  {
   "cell_type": "markdown",
   "id": "e7833631",
   "metadata": {},
   "source": [
    "The combination of parameters *loss = Log* and *intercept_lr = 0.005* returns the better performance. Let's see how the model performance change as the data arrives."
   ]
  },
  {
   "cell_type": "code",
   "execution_count": 159,
   "id": "4619c2be",
   "metadata": {},
   "outputs": [
    {
     "name": "stdout",
     "output_type": "stream",
     "text": [
      "[INFO] starting training...\n",
      "[INFO] final - Accuracy: 51.02%\n"
     ]
    }
   ],
   "source": [
    "#Getting the dataset\n",
    "dataset = stream.iter_csv(\"winequality-white-shuffled.csv\", target=\"quality\", converters=types)\n",
    "\n",
    "#Constructing our pipeline (standardize features + model)\n",
    "model = Pipeline(\n",
    "    StandardScaler(),\n",
    "    OneVsRestClassifier(classifier=LogisticRegression(loss = optim.losses.Log(), intercept_lr = 0.005)))\n",
    "\n",
    "#Initializing our metric\n",
    "print(\"[INFO] starting training...\")\n",
    "metric = Accuracy()\n",
    "\n",
    "values = []\n",
    "\n",
    "#Looping over the dataset one row at a time\n",
    "for (i, (X, y)) in enumerate(dataset):\n",
    "    #Make predictions on the current set of features, train the\n",
    "    #model on the features, and then update our metric\n",
    "    preds = model.predict_one(X)\n",
    "    model = model.learn_one(X, y)\n",
    "    metric = metric.update(y, preds)\n",
    "    values.append((i, float(str(metric).split(':')[1].strip()[:-1])))\n",
    "    #print(\"[INFO] update {} - {}\".format(i, metric))\n",
    "    \n",
    "#Showing the accuracy of the model\n",
    "print(\"[INFO] final - {}\".format(metric))"
   ]
  },
  {
   "cell_type": "code",
   "execution_count": 199,
   "id": "7c3f4452",
   "metadata": {},
   "outputs": [
    {
     "data": {
      "image/png": "[encoded data removed]",
      "text/plain": [
       "<Figure size 1200x560 with 1 Axes>"
      ]
     },
     "metadata": {
      "needs_background": "light"
     },
     "output_type": "display_data"
    }
   ],
   "source": [
    "figure(figsize=(15, 7), dpi=80)\n",
    "ax = plt.gca()\n",
    "plt.yticks(np.arange(0, 101, 5))\n",
    "ax.set_ylim([0, 70])\n",
    "plt.title(\"Logistic Regression Online Learning\")\n",
    "plt.xlabel(\"Samples\")\n",
    "plt.ylabel(\"Performance\")\n",
    "plt.scatter(*zip(*values))\n",
    "plt.show()"
   ]
  },
  {
   "cell_type": "markdown",
   "id": "a935ec9d",
   "metadata": {},
   "source": [
    "## Adaptive Random Forest Classifier"
   ]
  },
  {
   "cell_type": "code",
   "execution_count": null,
   "id": "9312c781",
   "metadata": {},
   "outputs": [],
   "source": [
    "#Getting the dataset\n",
    "dataset = stream.iter_csv(\"winequality-white.csv\", target=\"quality\", converters=types)"
   ]
  },
  {
   "cell_type": "code",
   "execution_count": null,
   "id": "3a3975e0",
   "metadata": {},
   "outputs": [],
   "source": [
    "model = AdaptiveRandomForestClassifier(n_models=3, seed=42)\n",
    "\n",
    "print(\"[INFO] starting training...\")\n",
    "metric = Accuracy()\n",
    "\n",
    "values = []\n",
    "\n",
    "# loop over the dataset\n",
    "for (i, (X, y)) in enumerate(dataset):\n",
    "    # make predictions on the current set of features, train the\n",
    "    # model on the features, and then update our metric\n",
    "    preds = model.predict_one(X)\n",
    "    model = model.learn_one(X, y)\n",
    "    metric = metric.update(y, preds)\n",
    "    values.append((i, float(str(metric).split(':')[1].strip()[:-1])))\n",
    "    print(\"[INFO] update {} - {}\".format(i, metric))\n",
    "    \n",
    "# show the accuracy of the model\n",
    "print(\"[INFO] final - {}\".format(metric))"
   ]
  },
  {
   "cell_type": "code",
   "execution_count": null,
   "id": "59b140db",
   "metadata": {},
   "outputs": [],
   "source": [
    "figure(figsize=(15, 15), dpi=80)\n",
    "ax = plt.gca()\n",
    "ax.set_ylim([0, 100])\n",
    "plt.scatter(*zip(*values))\n",
    "plt.show()"
   ]
  },
  {
   "cell_type": "markdown",
   "id": "16532866",
   "metadata": {},
   "source": [
    "# GAUSSIAN NAIVE BAYES (42.26%)"
   ]
  },
  {
   "cell_type": "code",
   "execution_count": null,
   "id": "5d400ee0",
   "metadata": {},
   "outputs": [],
   "source": [
    "#It is necessary to reload the dataset because it was previously emptied by simulating a stream line by line\n",
    "dataset = stream.iter_csv(\"winequality-white.csv\", target=\"quality\", converters=types)"
   ]
  },
  {
   "cell_type": "code",
   "execution_count": null,
   "id": "0c8a4c91",
   "metadata": {},
   "outputs": [],
   "source": [
    "model = GaussianNB()\n",
    "model._multiclass"
   ]
  },
  {
   "cell_type": "code",
   "execution_count": null,
   "id": "6dd3d0bf",
   "metadata": {},
   "outputs": [],
   "source": [
    "print(\"[INFO] starting training...\")\n",
    "metric = Accuracy()\n",
    "\n",
    "values = []\n",
    "\n",
    "# loop over the dataset\n",
    "for (i, (X, y)) in enumerate(dataset):\n",
    "    # make predictions on the current set of features, train the\n",
    "    # model on the features, and then update our metric\n",
    "    preds = model.predict_one(X)\n",
    "    model = model.learn_one(X, y)\n",
    "    metric = metric.update(y, preds)\n",
    "    values.append((i, float(str(metric).split(':')[1].strip()[:-1])))\n",
    "    print(\"[INFO] update {} - {}\".format(i, metric))\n",
    "    \n",
    "# show the accuracy of the model\n",
    "print(\"[INFO] final - {}\".format(metric))"
   ]
  },
  {
   "cell_type": "code",
   "execution_count": null,
   "id": "d0aca8c5",
   "metadata": {},
   "outputs": [],
   "source": [
    "figure(figsize=(15, 15), dpi=80)\n",
    "ax = plt.gca()\n",
    "ax.set_ylim([0, 100])\n",
    "plt.scatter(*zip(*values))\n",
    "plt.show()"
   ]
  },
  {
   "cell_type": "markdown",
   "id": "f70fe555",
   "metadata": {},
   "source": [
    "# SOFTMAX REGRESSION (42.71%)"
   ]
  },
  {
   "cell_type": "code",
   "execution_count": null,
   "id": "282b24aa",
   "metadata": {},
   "outputs": [],
   "source": [
    "#It is necessary to reload the dataset because it was previously emptied by simulating a stream line by line\n",
    "dataset = stream.iter_csv(\"winequality-white.csv\", target=\"quality\", converters=types)"
   ]
  },
  {
   "cell_type": "code",
   "execution_count": null,
   "id": "f20cedae",
   "metadata": {},
   "outputs": [],
   "source": [
    "model = SoftmaxRegression()\n",
    "model._multiclass"
   ]
  },
  {
   "cell_type": "code",
   "execution_count": null,
   "id": "9f1daa56",
   "metadata": {},
   "outputs": [],
   "source": [
    "print(\"[INFO] starting training...\")\n",
    "metric = Accuracy()\n",
    "\n",
    "values = []\n",
    "\n",
    "# loop over the dataset\n",
    "for (i, (X, y)) in enumerate(dataset):\n",
    "    # make predictions on the current set of features, train the\n",
    "    # model on the features, and then update our metric\n",
    "    preds = model.predict_one(X)\n",
    "    model = model.learn_one(X, y)\n",
    "    metric = metric.update(y, preds)\n",
    "    values.append((i, float(str(metric).split(':')[1].strip()[:-1])))\n",
    "    print(\"[INFO] update {} - {}\".format(i, metric))\n",
    "    \n",
    "# show the accuracy of the model\n",
    "print(\"[INFO] final - {}\".format(metric))"
   ]
  },
  {
   "cell_type": "code",
   "execution_count": null,
   "id": "2a7c73c7",
   "metadata": {},
   "outputs": [],
   "source": [
    "figure(figsize=(15, 15), dpi=80)\n",
    "ax = plt.gca()\n",
    "ax.set_ylim([0, 100])\n",
    "plt.scatter(*zip(*values))\n",
    "plt.show()"
   ]
  },
  {
   "cell_type": "markdown",
   "id": "aaabd8d9",
   "metadata": {},
   "source": [
    "# K-NEAREST NEIGHBORS (53.27%)"
   ]
  },
  {
   "cell_type": "code",
   "execution_count": null,
   "id": "357b82b2",
   "metadata": {},
   "outputs": [],
   "source": [
    "#It is necessary to reload the dataset because it was previously emptied by simulating a stream line by line\n",
    "dataset = stream.iter_csv(\"winequality-white.csv\", target=\"quality\", converters=types)"
   ]
  },
  {
   "cell_type": "code",
   "execution_count": null,
   "id": "45a944d2",
   "metadata": {},
   "outputs": [],
   "source": [
    "model = KNNClassifier()\n",
    "model._multiclass"
   ]
  },
  {
   "cell_type": "code",
   "execution_count": null,
   "id": "3ca65bf7",
   "metadata": {},
   "outputs": [],
   "source": [
    "print(\"[INFO] starting training...\")\n",
    "metric = Accuracy()\n",
    "\n",
    "values = []\n",
    "\n",
    "# loop over the dataset\n",
    "for (i, (X, y)) in enumerate(dataset):\n",
    "    # make predictions on the current set of features, train the\n",
    "    # model on the features, and then update our metric\n",
    "    preds = model.predict_one(X)\n",
    "    model = model.learn_one(X, y)\n",
    "    metric = metric.update(y, preds)\n",
    "    values.append((i, float(str(metric).split(':')[1].strip()[:-1])))\n",
    "    print(\"[INFO] update {} - {}\".format(i, metric))\n",
    "    \n",
    "# show the accuracy of the model\n",
    "print(\"[INFO] final - {}\".format(metric))"
   ]
  },
  {
   "cell_type": "code",
   "execution_count": null,
   "id": "a2f574d3",
   "metadata": {},
   "outputs": [],
   "source": [
    "figure(figsize=(15, 15), dpi=80)\n",
    "ax = plt.gca()\n",
    "ax.set_ylim([0, 100])\n",
    "plt.scatter(*zip(*values))\n",
    "plt.show()"
   ]
  },
  {
   "cell_type": "markdown",
   "id": "28dc23dc",
   "metadata": {},
   "source": [
    "# SVM - SGDCLASSIFIER (42.13%)"
   ]
  },
  {
   "cell_type": "code",
   "execution_count": null,
   "id": "aaf7b2d2",
   "metadata": {},
   "outputs": [],
   "source": [
    "chunksize = 1\n",
    "model = SGDClassifier(loss='hinge', penalty=\"l2\")\n",
    "\n",
    "features_columns = ['fixed acidity', 'volatile acidity', 'citric acid', 'residual sugar', 'chlorides', \n",
    "                    'free sulfur dioxide', 'total sulfur dioxide', 'density', 'pH', 'sulphates','alcohol']\n",
    "\n",
    "def acc(try_n, accuracy_score):\n",
    "    return accuracy_score/try_n*100\n",
    "    \n",
    "data = pd.read_csv(\"winequality-white.csv\")\n",
    "print(np.unique(data['quality']))\n",
    "\n",
    "tent = 0\n",
    "acc_cumul_score = 0\n",
    "values = []\n",
    "\n",
    "for df in pd.read_csv(\"winequality-white.csv\", chunksize=chunksize, iterator=True):\n",
    "    if tent == 0:\n",
    "        X = df[features_columns]\n",
    "        y = df['quality']\n",
    "        model.partial_fit(X, y, classes=np.unique(data['quality']))\n",
    "        predictions = model.predict(X)\n",
    "        accuracy = accuracy_score(y, predictions)\n",
    "        acc_cumul_score += accuracy\n",
    "        tent += 1\n",
    "        values.append((tent, acc(tent, acc_cumul_score)))\n",
    "        print('Accuracy: {}'.format(acc(tent, acc_cumul_score)))\n",
    "\n",
    "    else:\n",
    "        X = df[features_columns]\n",
    "        y = df['quality']\n",
    "        predictions = model.predict(X)\n",
    "        model.partial_fit(X, y)\n",
    "        accuracy = accuracy_score(y, predictions)\n",
    "        acc_cumul_score += accuracy\n",
    "        tent += 1\n",
    "        values.append((tent, acc(tent, acc_cumul_score)))\n",
    "        print('Accuracy[{}]: {}'.format(tent, acc(tent, acc_cumul_score)))"
   ]
  },
  {
   "cell_type": "code",
   "execution_count": null,
   "id": "bb89e41b",
   "metadata": {},
   "outputs": [],
   "source": [
    "figure(figsize=(15, 15), dpi=80)\n",
    "ax = plt.gca()\n",
    "ax.set_ylim([0, 100])\n",
    "plt.scatter(*zip(*values))\n",
    "plt.show()"
   ]
  }
 ],
 "metadata": {
  "kernelspec": {
   "display_name": "Python 3 (ipykernel)",
   "language": "python",
   "name": "python3"
  },
  "language_info": {
   "codemirror_mode": {
    "name": "ipython",
    "version": 3
   },
   "file_extension": ".py",
   "mimetype": "text/x-python",
   "name": "python",
   "nbconvert_exporter": "python",
   "pygments_lexer": "ipython3",
   "version": "3.7.11"
  }
 },
 "nbformat": 4,
 "nbformat_minor": 5
}
